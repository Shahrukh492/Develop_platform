{
 "cells": [
  {
   "cell_type": "code",
   "execution_count": 5,
   "id": "dd1f9bf1",
   "metadata": {},
   "outputs": [],
   "source": [
    "import os\n",
    "path = 'E:\\\\GoldenEye\\\\Test_face'\n",
    "files = os.listdir(path)\n",
    "#i = 2\n",
    "\n",
    "for index, file in enumerate(files):\n",
    "    os.rename(os.path.join(path, file), os.path.join(path, f'{str(index)}'.join(['pic', '.jpg'])))\n"
   ]
  },
  {
   "cell_type": "code",
   "execution_count": null,
   "id": "a7f5c487",
   "metadata": {},
   "outputs": [],
   "source": []
  }
 ],
 "metadata": {
  "kernelspec": {
   "display_name": "Python 3 (ipykernel)",
   "language": "python",
   "name": "python3"
  },
  "language_info": {
   "codemirror_mode": {
    "name": "ipython",
    "version": 3
   },
   "file_extension": ".py",
   "mimetype": "text/x-python",
   "name": "python",
   "nbconvert_exporter": "python",
   "pygments_lexer": "ipython3",
   "version": "3.9.12"
  }
 },
 "nbformat": 4,
 "nbformat_minor": 5
}
